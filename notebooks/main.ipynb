{
 "cells": [
  {
   "cell_type": "markdown",
   "id": "18da5a96",
   "metadata": {},
   "source": [
    "# ACO-TR-LOGISTICS: Rota Optimizasyon Prototipi (Versiyon 2.0)\n",
    "Bu not defteri, tüm düzeltmeleri ve en iyi pratikleri içeren, baştan sona çalışan bir prototiptir. Amacı, Çorlu bölgesi için belirlenen duraklara en verimli turu bulan bir rota optimizasyonu gerçekleştirmektir."
   ]
  },
  {
   "cell_type": "markdown",
   "id": "bb19ec2a",
   "metadata": {},
   "source": [
    "### Adım 1: Kurulum ve Kütüphaneleri Yükleme\n",
    "Bu hücre, projenin çalışması için gerekli olan standart Python kütüphanelerini ve `src` klasörümüzdeki kendi yazdığımız `Ant` ve `ACOptimizer` sınıflarını import eder.\n",
    "\n",
    "`sys.path` manipülasyonu, not defterimizin, bir üst dizindeki `src` klasörünü görmesini sağlamak için kritik bir adımdır."
   ]
  },
  {
   "cell_type": "code",
   "execution_count": null,
   "id": "8a416f2d",
   "metadata": {},
   "outputs": [],
   "source": [
    "import sys\n",
    "import os\n",
    "import random\n",
    "\n",
    "project_root = os.path.abspath(os.path.join(os.getcwd(), '..'))\n",
    "if project_root not in sys.path:\n",
    "    sys.path.insert(0, project_root)\n",
    "\n",
    "from src.data_loader import load_graph\n",
    "from src.visualization.map_plotter import plot_optimized_route\n",
    "from src.aco import Ant, ACOptimizer\n",
    "\n",
    "import numpy as np\n",
    "from IPython.display import display\n",
    "\n",
    "print(\"Kurulum tamamlandı. Kütüphaneler ve yerel modüller başarıyla import edildi.\")"
   ]
  },
  {
   "cell_type": "markdown",
   "id": "fb531139",
   "metadata": {},
   "source": [
    "### Adım 2: Yol Ağını Çekme ve Hazırlama\n",
    "Önceki hatalardan ders çıkardık. Algoritmanın tek yönlü yollarla kafasının karışmaması ve `KeyError` almamak için:\n",
    "1. Önce standart 'drive' ağını (yönlü graf) çekeceğiz.\n",
    "2. Sonra `ox.get_undirected()` fonksiyonu ile bu grafı **yönsüz (simetrik)** bir grafa çevireceğiz. Bu, eğer A'dan B'ye bir yol varsa, B'den A'ya da bir yol olduğunu garanti eder ve algoritmayı çok daha kararlı hale getirir."
   ]
  },
  {
   "cell_type": "code",
   "execution_count": null,
   "id": "a2a3e059",
   "metadata": {},
   "outputs": [],
   "source": [
    "import osmnx as ox\n",
    "\n",
    "place_name = 'Çorlu, Tekirdağ, Türkiye'\n",
    "\n",
    "print(\"Yönlü graf indiriliyor (Görselleştirme için)...\")\n",
    "G_directed = ox.graph_from_place(place_name, network_type='drive')\n",
    "\n",
    "print(\"Yönsüz graf oluşturuluyor (Optimizasyon için)...\")\n",
    "G_undirected = G_directed.to_undirected()\n",
    "\n",
    "print(\"\\nGraf yüklemesi tamamlandı.\")\n",
    "print(f\"Yönlü Graf: {len(G_directed.nodes())} Düğüm, {len(G_directed.edges())} Kenar\")\n",
    "print(f\"Yönsüz Graf: {len(G_undirected.nodes())} Düğüm, {len(G_undirected.edges())} Kenar\")"
   ]
  },
  {
   "cell_type": "markdown",
   "id": "4bc264f2",
   "metadata": {},
   "source": [
    "### Adım 3: Optimizasyon Parametrelerini Ayarlama\n",
    "Operasyon Şefi'nin strateji toplantısı! Algoritmamızın nasıl davranacağını belirleyen \"ince ayar düğmelerini\" burada tanımlıyoruz."
   ]
  },
  {
   "cell_type": "code",
   "execution_count": null,
   "id": "710b2cd8",
   "metadata": {},
   "outputs": [],
   "source": [
    "ANT_COUNT = 10\n",
    "ITERATIONS = 50\n",
    "ALPHA = 1.0\n",
    "BETA = 5.0\n",
    "EVAPORATION_RATE = 0.5"
   ]
  },
  {
   "cell_type": "markdown",
   "id": "8708a41a",
   "metadata": {},
   "source": [
    "### Adım 4: Problemi Tanımlama (Durakları Seçme\n",
    "Karıncaların hangi problemi çözeceğini netleştirmeliyiz. Bu örnekte, haritadan rastgele **10 adet durak** seçeceğiz ve karıncalardan bu 10 durağın hepsine uğrayan en kısa turu bulmalarını isteyeceğiz. Bu, klasik bir **Gezgin Satıcı Problemi (TSP)** senaryosudur."
   ]
  },
  {
   "cell_type": "code",
   "execution_count": null,
   "id": "c25d4239",
   "metadata": {},
   "outputs": [],
   "source": [
    "if 'G_undirected' in locals():\n",
    "    all_graph_nodes = list(G_undirected.nodes()) # Yönsüz graftan seç\n",
    "    nodes_to_visit = random.sample(all_graph_nodes, 10)\n",
    "    start_node = nodes_to_visit[0]\n",
    "    print(f\"Toplam {len(nodes_to_visit)} adet durağa uğranacak.\")\n",
    "    print(f\"Başlangıç Durağı (Depo): {start_node}\")\n",
    "else:\n",
    "    print(\"Graf yüklenemediği için problem tanımlanamıyor.\")"
   ]
  },
  {
   "cell_type": "markdown",
   "id": "e1d10692",
   "metadata": {},
   "source": [
    "### Adım 5: Optimizasyonu Başlatma\n",
    "Tüm hazırlıklar tamam. Şimdi `ACOptimizer` nesnesini oluşturup, `run` metodunu çağırarak optimizasyon sürecini başlatıyoruz. Bu işlem, bilgisayarınızın hızına bağlı olarak birkaç dakika sürebilir."
   ]
  },
  {
   "cell_type": "code",
   "execution_count": null,
   "id": "7bf83bf0",
   "metadata": {},
   "outputs": [],
   "source": [
    "if 'G_undirected' in locals():\n",
    "    ants = [Ant(G_undirected, start_node) for _ in range(ANT_COUNT)]\n",
    "    optimizer = ACOptimizer(\n",
    "        graph=G_undirected,\n",
    "        ants=ants,\n",
    "        nodes_to_visit=nodes_to_visit,\n",
    "        alpha=ALPHA,\n",
    "        beta=BETA,\n",
    "        evaporation_rate=EVAPORATION_RATE\n",
    "    )\n",
    "\n",
    "    print(\"Optimizasyon başlıyor...\")\n",
    "    best_path, best_distance = optimizer.run(ITERATIONS)\n",
    "    print(\"\\nOptimizasyon tamamlandı!\")\n",
    "    print(\"--- SONUÇLAR ---\")\n",
    "    print(f\"En iyi bulunan tur mesafesi: {best_distance:.2f} metre\")"
   ]
  },
  {
   "cell_type": "markdown",
   "id": "65504773",
   "metadata": {},
   "source": [
    "### Adım 6: Sonucu Haritada Görselleştirme\n",
    "Sayısal sonuç güzel, ama en tatmin edici kısım, bulunan en iyi rotayı interaktif bir harita üzerinde görmektir. `ox.plot_route_folium` fonksiyonu bu iş için mükemmeldir."
   ]
  },
  {
   "cell_type": "code",
   "execution_count": null,
   "id": "71ebb88f",
   "metadata": {},
   "outputs": [],
   "source": [
    "if 'best_path' in locals() and best_path and 'G_directed' in locals():\n",
    "    print(\"Sonuç haritası oluşturuluyor...\")\n",
    "    \n",
    "    route_map = plot_optimized_route(\n",
    "        graph=G_directed,\n",
    "        best_path=best_path,\n",
    "        nodes_to_visit=nodes_to_visit,\n",
    "        start_node=start_node\n",
    "    )\n",
    "    \n",
    "    if route_map:\n",
    "        display(route_map)\n",
    "    else:\n",
    "        print(\"Harita oluşturulamadı.\")\n",
    "else:\n",
    "    print(\"Bir rota bulunamadığı için harita çizilemiyor.\")"
   ]
  }
 ],
 "metadata": {
  "kernelspec": {
   "display_name": ".venv",
   "language": "python",
   "name": "python3"
  },
  "language_info": {
   "codemirror_mode": {
    "name": "ipython",
    "version": 3
   },
   "file_extension": ".py",
   "mimetype": "text/x-python",
   "name": "python",
   "nbconvert_exporter": "python",
   "pygments_lexer": "ipython3",
   "version": "3.13.5"
  }
 },
 "nbformat": 4,
 "nbformat_minor": 5
}

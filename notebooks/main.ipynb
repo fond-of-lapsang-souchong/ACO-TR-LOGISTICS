{
 "cells": [
  {
   "cell_type": "markdown",
   "id": "1a291d9e",
   "metadata": {},
   "source": [
    "# ACO-TR-LOGISTICS: Uygulama Gösterim ve Geliştirme Not Defteri\n",
    "\n",
    "Bu not defteri, `ACO-TR-LOGISTICS` projesinin birincil çalışma aracı **değildir**. Projenin tüm ana mantığı, terminalden çalıştırılabilen `src/main.py` dosyası içinde yer almaktadır.\n",
    "\n",
    "---\n",
    "\n",
    "## Ana Uygulamayı Çalıştırma\n",
    "\n",
    "Uygulamanın tamamını, `config.yaml` dosyasındaki ayarlarla çalıştırmak için, projenin kök dizininde bir terminal açın ve aşağıdaki komutu kullanın:\n",
    "\n",
    "```bash\n",
    "python -m src.main\n",
    "```\n",
    "\n",
    "Bu komut, optimizasyonu çalıştıracak ve sonuç haritasını corlu_optimized_route.html (veya config dosyasında belirtilen başka bir isimle) dosyasına kaydedecektir.\n"
   ]
  }
 ],
 "metadata": {
  "kernelspec": {
   "display_name": ".venv",
   "language": "python",
   "name": "python3"
  },
  "language_info": {
   "codemirror_mode": {
    "name": "ipython",
    "version": 3
   },
   "file_extension": ".py",
   "mimetype": "text/x-python",
   "name": "python",
   "nbconvert_exporter": "python",
   "pygments_lexer": "ipython3",
   "version": "3.13.5"
  }
 },
 "nbformat": 4,
 "nbformat_minor": 5
}

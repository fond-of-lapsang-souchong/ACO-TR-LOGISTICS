{
 "cells": [
  {
   "cell_type": "markdown",
   "id": "92e9e2b3",
   "metadata": {},
   "source": [
    "# ACO-TR-LOGISTICS: Rota Optimizasyon Prototipi\n",
    "\n",
    "Bu Jupyter Notebook, \"ACO-TR-LOGISTICS\" projesinin ilk prototipini oluşturmak için kullanılmaktadır. Amacımız, belirli bir coğrafi bölgenin yol ağını çekmek, temel verileri analiz etmek ve Karınca Kolonisi Optimizasyonu (ACO) algoritmasının ana iskeletini hazırlamaktır.\n",
    "\n",
    "**İzlenecek Adımlar:**\n",
    "1. Gerekli kütüphaneleri yüklemek.\n",
    "2. OpenStreetMap üzerinden hedef bölgenin yol ağını çekmek.\n",
    "3. Çekilen grafın temel özelliklerini (düğüm ve kenar sayıları) incelemek.\n",
    "4. ACO algoritması için temel sınıf iskeletlerini oluşturmak."
   ]
  },
  {
   "cell_type": "code",
   "execution_count": 1,
   "id": "42e2ffc2",
   "metadata": {},
   "outputs": [
    {
     "name": "stdout",
     "output_type": "stream",
     "text": [
      "Kütüphaneler başarıyla import edildi.\n"
     ]
    }
   ],
   "source": [
    "import osmnx as ox\n",
    "import numpy as np\n",
    "import folium\n",
    "\n",
    "print(\"Kütüphaneler başarıyla import edildi.\")"
   ]
  },
  {
   "cell_type": "markdown",
   "id": "246f6b58",
   "metadata": {},
   "source": [
    "### Adım 2: Yol Ağını Çekme\n",
    "\n",
    "Sıradaki kod hücresinde `osmnx` (ox) kütüphanesini kullanarak hedef bölgemiz olan 'Çorlu, Tekirdağ' için yol ağını çekeceğiz.\n",
    "\n",
    "- `ox.graph_from_place()`: Bu fonksiyon, verdiğimiz metin sorgusunu (`place_name`) kullanarak OpenStreetMap'ten ilgili bölgenin harita verilerini indirir.\n",
    "- `network_type='drive'`: Bu parametre ile sadece araçların kullanabildiği yolları (karayolları, caddeler, sokaklar) istediğimizi belirtiyoruz. Yürüyüş veya bisiklet yolları dahil edilmeyecektir.\n",
    "- `G`: Elde ettiğimiz yol ağı, bir \"graf\" veri yapısında saklanır. Bu `G` nesnesi, tüm kavşakları (düğümler/nodes) ve bu kavşakları birbirine bağlayan yolları (kenarlar/edges) içerir."
   ]
  },
  {
   "cell_type": "code",
   "execution_count": 2,
   "id": "0c2f03a1",
   "metadata": {},
   "outputs": [
    {
     "name": "stdout",
     "output_type": "stream",
     "text": [
      "'Çorlu, Tekirdağ, Türkiye' için yol ağı başarıyla çekildi ve 'G' nesnesine atandı.\n"
     ]
    }
   ],
   "source": [
    "place_name = 'Çorlu, Tekirdağ, Türkiye'\n",
    "G = ox.graph_from_place(place_name, network_type='drive')\n",
    "print(f\"'{place_name}' için yol ağı başarıyla çekildi ve 'G' nesnesine atandı.\")"
   ]
  },
  {
   "cell_type": "markdown",
   "id": "247ba22b",
   "metadata": {},
   "source": [
    "### Adım 3: Graf Bilgilerini İnceleme\n",
    "\n",
    "Yol ağını başarıyla çektik. Şimdi elimizdeki grafın ne kadar karmaşık olduğunu anlamak için temel metriklere bakalım:\n",
    "- **Düğüm (Node):** Graf teorisinde bir noktadır. Bizim projemizde her bir *kavşağı*, *yol sonunu* veya *yolların kesişim noktasını* temsil eder.\n",
    "- **Kenar (Edge):** İki düğümü birbirine bağlayan çizgidir. Bizim projemizde iki kavşak arasındaki *yol parçasını* temsil eder."
   ]
  },
  {
   "cell_type": "code",
   "execution_count": 3,
   "id": "17b05dc4",
   "metadata": {},
   "outputs": [
    {
     "name": "stdout",
     "output_type": "stream",
     "text": [
      "'Çorlu, Tekirdağ, Türkiye' Bölgesinin Graf Bilgileri:\n",
      "----------------------------------------\n",
      "Toplam Düğüm (Kavşak) Sayısı: 5173\n",
      "Toplam Kenar (Yol) Sayısı:    13991\n"
     ]
    }
   ],
   "source": [
    "num_nodes = len(G.nodes)\n",
    "num_edges = len(G.edges)\n",
    "\n",
    "print(f\"'{place_name}' Bölgesinin Graf Bilgileri:\")\n",
    "print(\"-\" * 40)\n",
    "print(f\"Toplam Düğüm (Kavşak) Sayısı: {num_nodes}\")\n",
    "print(f\"Toplam Kenar (Yol) Sayısı:    {num_edges}\")"
   ]
  },
  {
   "cell_type": "markdown",
   "id": "8dd23dfd",
   "metadata": {},
   "source": [
    "### Adım 4: Algoritma İskeletini Oluşturma (Placeholder)\n",
    "\n",
    "Projemizin ana mantığı `src` klasörü altındaki Python modüllerinde yer alacak. Ancak, bu not defteri içinde hızlı prototipleme ve denemeler yapabilmek için, `src/optimization/ant_colony.py` dosyasında oluşturacağımız `Ant` ve `ACOptimizer` sınıflarının basit iskeletlerini burada tanımlayacağız.\n",
    "\n",
    "- `class Ant:`: Kolonideki tek bir karıncayı temsil edecek. Kendi rotasını ve katettiği mesafeyi tutacak.\n",
    "- `class ACOptimizer:`: Tüm optimizasyon sürecini yönetecek olan ana sınıf. Karıncaları yönetecek, feromonları güncelleyecek ve en iyi rotayı bulacak.\n",
    "- `pass`: Python'da \"hiçbir şey yapma\" anlamına gelen bir ifadedir. Bir fonksiyon veya sınıfın gövdesini boş bırakamayacağımız için, şimdilik içini `pass` ile doldurarak yapıyı oluşturuyoruz."
   ]
  },
  {
   "cell_type": "code",
   "execution_count": 4,
   "id": "885cfe15",
   "metadata": {},
   "outputs": [
    {
     "name": "stdout",
     "output_type": "stream",
     "text": [
      "Ant ve ACOptimizer sınıfları için iskelet (placeholder) yapısı başarıyla oluşturuldu.\n",
      "\n",
      "Prototip not defterinin ilk adımları tamamlandı!\n"
     ]
    }
   ],
   "source": [
    "class Ant:\n",
    "    \"\"\"\n",
    "    Tek bir karıncayı temsil eden sınıf.\n",
    "    Gezdiği yolu, toplam mesafeyi ve diğer durum bilgilerini tutar.\n",
    "    İleride eklenecek metotlar: move(), get_path(), get_distance() vb.\n",
    "    \"\"\"\n",
    "    pass\n",
    "\n",
    "class ACOptimizer:\n",
    "    \"\"\"\n",
    "    Tüm Karınca Kolonisi Optimizasyon sürecini yöneten ana sınıf.\n",
    "    Karıncaları oluşturur, iterasyonları çalıştırır, feromonları günceller ve en iyi rotayı bulur.\n",
    "    İleride eklenecek metotlar: run(), _create_ants(), _update_pheromones() vb.\n",
    "    \"\"\"\n",
    "    pass\n",
    "\n",
    "print(\"Ant ve ACOptimizer sınıfları için iskelet (placeholder) yapısı başarıyla oluşturuldu.\")\n",
    "print(\"\\nPrototip not defterinin ilk adımları tamamlandı!\")"
   ]
  }
 ],
 "metadata": {
  "kernelspec": {
   "display_name": ".venv",
   "language": "python",
   "name": "python3"
  },
  "language_info": {
   "codemirror_mode": {
    "name": "ipython",
    "version": 3
   },
   "file_extension": ".py",
   "mimetype": "text/x-python",
   "name": "python",
   "nbconvert_exporter": "python",
   "pygments_lexer": "ipython3",
   "version": "3.13.5"
  }
 },
 "nbformat": 4,
 "nbformat_minor": 5
}
